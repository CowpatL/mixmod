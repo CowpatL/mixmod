{
 "metadata": {
  "name": "",
  "signature": "sha256:687e74ce9d0324dfdeeb7d65529d1f41eb7627f71c58c3421d2fa79e110ae6e5"
 },
 "nbformat": 3,
 "nbformat_minor": 0,
 "worksheets": [
  {
   "cells": [
    {
     "cell_type": "heading",
     "level": 1,
     "metadata": {},
     "source": [
      "Classification, donn\u00e9es quantitatives"
     ]
    },
    {
     "cell_type": "code",
     "collapsed": false,
     "input": [
      "from __future__ import (absolute_import, division,\n",
      "                        print_function, unicode_literals) # compatibilit\u00e9 Python 2.7.x / 3.4.x\n",
      "import pandas as pnd # utile pour lire un fichier dans un DataFrame\n",
      "\n",
      "import mixmod # le module PyMixmod proprement dit\n",
      "from mixmod import gm # contient des constantes diverses, en particulier des \u00e9num\u00e9rations"
     ],
     "language": "python",
     "metadata": {},
     "outputs": []
    },
    {
     "cell_type": "markdown",
     "metadata": {},
     "source": [
      "R\u00e9cup\u00e9ration des donn\u00e9es dans un dataframe (pandas) :"
     ]
    },
    {
     "cell_type": "markdown",
     "metadata": {},
     "source": [
      "Importations :"
     ]
    },
    {
     "cell_type": "code",
     "collapsed": false,
     "input": [
      "data = pnd.read_csv(filepath_or_buffer='data/iris.train',sep=',', header=False)\n"
     ],
     "language": "python",
     "metadata": {},
     "outputs": []
    },
    {
     "cell_type": "markdown",
     "metadata": {},
     "source": [
      "Appel **mixmod.cluster()** pour la classification proprement dite (*gm.QUANTITATIVE* est un item de type \u00e9num\u00e9r\u00e9):"
     ]
    },
    {
     "cell_type": "code",
     "collapsed": false,
     "input": [
      "cluster = mixmod.cluster(data,[2,3,4], gm.QUANTITATIVE)"
     ],
     "language": "python",
     "metadata": {},
     "outputs": []
    },
    {
     "cell_type": "markdown",
     "metadata": {},
     "source": [
      "Le r\u00e9sultat est une instance de la classe **ClusterOutput** :"
     ]
    },
    {
     "cell_type": "code",
     "collapsed": false,
     "input": [
      "cluster"
     ],
     "language": "python",
     "metadata": {},
     "outputs": [
      {
       "metadata": {},
       "output_type": "pyout",
       "prompt_number": 6,
       "text": [
        "<mixmod.ClusterOutput at 0x7fbef2e3ccb0>"
       ]
      }
     ],
     "prompt_number": 6
    },
    {
     "cell_type": "markdown",
     "metadata": {},
     "source": [
      "Affichage **Rmixmod-like** :"
     ]
    },
    {
     "cell_type": "code",
     "collapsed": false,
     "input": [
      "print(cluster)"
     ],
     "language": "python",
     "metadata": {},
     "outputs": [
      {
       "output_type": "stream",
       "stream": "stdout",
       "text": [
        "****************************************\n",
        "*** INPUT:\n",
        "****************************************\n",
        "* nbCluster = 2 3 4\n",
        "* criterion = BIC\n",
        "****************************************\n",
        "*** MIXMOD Models:\n",
        "* list = Gaussian_pk_Lk_C\n",
        "****************************************\n",
        "* data =\n",
        "0    5.1  3.5  1.4  0.2  1\n",
        "1    4.9  3.0  1.4  0.2  1\n",
        "2    4.7  3.2  1.3  0.2  1\n",
        "3    4.6  3.1  1.5  0.2  1\n",
        "4    5.0  3.6  1.4  0.2  1\n",
        "5    5.4  3.9  1.7  0.4  1\n",
        "6    4.6  3.4  1.4  0.3  1\n",
        "7    5.0  3.4  1.5  0.2  1\n",
        "8    4.4  2.9  1.4  0.2  1\n",
        "9    4.9  3.1  1.5  0.1  1\n",
        "10   5.4  3.7  1.5  0.2  1\n",
        "11   4.8  3.4  1.6  0.2  1\n",
        "12   4.8  3.0  1.4  0.1  1\n",
        "13   4.3  3.0  1.1  0.1  1\n",
        "14   5.8  4.0  1.2  0.2  1\n",
        "15   5.7  4.4  1.5  0.4  1\n",
        "16   5.4  3.9  1.3  0.4  1\n",
        "17   5.1  3.5  1.4  0.3  1\n",
        "18   5.7  3.8  1.7  0.3  1\n",
        "19   5.1  3.8  1.5  0.3  1\n",
        "20   5.4  3.4  1.7  0.2  1\n",
        "21   5.1  3.7  1.5  0.4  1\n",
        "22   4.6  3.6  1.0  0.2  1\n",
        "23   5.1  3.3  1.7  0.5  1\n",
        "24   4.8  3.4  1.9  0.2  1\n",
        "25   5.0  3.0  1.6  0.2  1\n",
        "26   5.0  3.4  1.6  0.4  1\n",
        "27   5.2  3.5  1.5  0.2  1\n",
        "28   5.2  3.4  1.4  0.2  1\n",
        "29   4.7  3.2  1.6  0.2  1\n",
        "30   4.8  3.1  1.6  0.2  1\n",
        "31   5.4  3.4  1.5  0.4  1\n",
        "32   5.2  4.1  1.5  0.1  1\n",
        "33   5.5  4.2  1.4  0.2  1\n",
        "34   4.9  3.1  1.5  0.2  1\n",
        "35   5.0  3.2  1.2  0.2  1\n",
        "36   5.5  3.5  1.3  0.2  1\n",
        "37   4.9  3.6  1.4  0.1  1\n",
        "38   4.4  3.0  1.3  0.2  1\n",
        "39   5.1  3.4  1.5  0.2  1\n",
        "40   5.0  3.5  1.3  0.3  1\n",
        "41   4.5  2.3  1.3  0.3  1\n",
        "42   4.4  3.2  1.3  0.2  1\n",
        "43   5.0  3.5  1.6  0.6  1\n",
        "44   5.1  3.8  1.9  0.4  1\n",
        "45   4.8  3.0  1.4  0.3  1\n",
        "46   5.1  3.8  1.6  0.2  1\n",
        "47   4.6  3.2  1.4  0.2  1\n",
        "48   5.3  3.7  1.5  0.2  1\n",
        "49   5.0  3.3  1.4  0.2  1\n",
        "50   7.0  3.2  4.7  1.4  2\n",
        "51   6.4  3.2  4.5  1.5  2\n",
        "52   6.9  3.1  4.9  1.5  2\n",
        "53   5.5  2.3  4.0  1.3  2\n",
        "54   6.5  2.8  4.6  1.5  2\n",
        "55   5.7  2.8  4.5  1.3  2\n",
        "56   6.3  3.3  4.7  1.6  2\n",
        "57   4.9  2.4  3.3  1.0  2\n",
        "58   6.6  2.9  4.6  1.3  2\n",
        "59   5.2  2.7  3.9  1.4  2\n",
        "60   5.0  2.0  3.5  1.0  2\n",
        "61   5.9  3.0  4.2  1.5  2\n",
        "62   6.0  2.2  4.0  1.0  2\n",
        "63   6.1  2.9  4.7  1.4  2\n",
        "64   5.6  2.9  3.6  1.3  2\n",
        "65   6.7  3.1  4.4  1.4  2\n",
        "66   5.6  3.0  4.5  1.5  2\n",
        "67   5.8  2.7  4.1  1.0  2\n",
        "68   6.2  2.2  4.5  1.5  2\n",
        "69   5.6  2.5  3.9  1.1  2\n",
        "70   5.9  3.2  4.8  1.8  2\n",
        "71   6.1  2.8  4.0  1.3  2\n",
        "72   6.3  2.5  4.9  1.5  2\n",
        "73   6.1  2.8  4.7  1.2  2\n",
        "74   6.4  2.9  4.3  1.3  2\n",
        "75   6.6  3.0  4.4  1.4  2\n",
        "76   6.8  2.8  4.8  1.4  2\n",
        "77   6.7  3.0  5.0  1.7  2\n",
        "78   6.0  2.9  4.5  1.5  2\n",
        "79   5.7  2.6  3.5  1.0  2\n",
        "80   5.5  2.4  3.8  1.1  2\n",
        "81   5.5  2.4  3.7  1.0  2\n",
        "82   5.8  2.7  3.9  1.2  2\n",
        "83   6.0  2.7  5.1  1.6  2\n",
        "84   5.4  3.0  4.5  1.5  2\n",
        "85   6.0  3.4  4.5  1.6  2\n",
        "86   6.7  3.1  4.7  1.5  2\n",
        "87   6.3  2.3  4.4  1.3  2\n",
        "88   5.6  3.0  4.1  1.3  2\n",
        "89   5.5  2.5  4.0  1.3  2\n",
        "90   5.5  2.6  4.4  1.2  2\n",
        "91   6.1  3.0  4.6  1.4  2\n",
        "92   5.8  2.6  4.0  1.2  2\n",
        "93   5.0  2.3  3.3  1.0  2\n",
        "94   5.6  2.7  4.2  1.3  2\n",
        "95   5.7  3.0  4.2  1.2  2\n",
        "96   5.7  2.9  4.2  1.3  2\n",
        "97   6.2  2.9  4.3  1.3  2\n",
        "98   5.1  2.5  3.0  1.1  2\n",
        "99   5.7  2.8  4.1  1.3  2\n",
        "100  6.3  3.3  6.0  2.5  3\n",
        "101  5.8  2.7  5.1  1.9  3\n",
        "102  7.1  3.0  5.9  2.1  3\n",
        "103  6.3  2.9  5.6  1.8  3\n",
        "104  6.5  3.0  5.8  2.2  3\n",
        "105  7.6  3.0  6.6  2.1  3\n",
        "106  4.9  2.5  4.5  1.7  3\n",
        "107  7.3  2.9  6.3  1.8  3\n",
        "108  6.7  2.5  5.8  1.8  3\n",
        "109  7.2  3.6  6.1  2.5  3\n",
        "110  6.5  3.2  5.1  2.0  3\n",
        "111  6.4  2.7  5.3  1.9  3\n",
        "112  6.8  3.0  5.5  2.1  3\n",
        "113  5.7  2.5  5.0  2.0  3\n",
        "114  5.8  2.8  5.1  2.4  3\n",
        "115  6.4  3.2  5.3  2.3  3\n",
        "116  6.5  3.0  5.5  1.8  3\n",
        "117  7.7  3.8  6.7  2.2  3\n",
        "118  7.7  2.6  6.9  2.3  3\n",
        "119  6.0  2.2  5.0  1.5  3\n",
        "120  6.9  3.2  5.7  2.3  3\n",
        "121  5.6  2.8  4.9  2.0  3\n",
        "122  7.7  2.8  6.7  2.0  3\n",
        "123  6.3  2.7  4.9  1.8  3\n",
        "124  6.7  3.3  5.7  2.1  3\n",
        "125  7.2  3.2  6.0  1.8  3\n",
        "126  6.2  2.8  4.8  1.8  3\n",
        "127  6.1  3.0  4.9  1.8  3\n",
        "128  6.4  2.8  5.6  2.1  3\n",
        "129  7.2  3.0  5.8  1.6  3\n",
        "130  7.4  2.8  6.1  1.9  3\n",
        "131  7.9  3.8  6.4  2.0  3\n",
        "132  6.4  2.8  5.6  2.2  3\n",
        "133  6.3  2.8  5.1  1.5  3\n",
        "134  6.1  2.6  5.6  1.4  3\n",
        "135  7.7  3.0  6.1  2.3  3\n",
        "136  6.3  3.4  5.6  2.4  3\n",
        "137  6.4  3.1  5.5  1.8  3\n",
        "138  6.0  3.0  4.8  1.8  3\n",
        "139  6.9  3.1  5.4  2.1  3\n",
        "140  6.7  3.1  5.6  2.4  3\n",
        "141  6.9  3.1  5.1  2.3  3\n",
        "142  5.8  2.7  5.1  1.9  3\n",
        "143  6.8  3.2  5.9  2.3  3\n",
        "144  6.7  3.3  5.7  2.5  3\n",
        "145  6.7  3.0  5.2  2.3  3\n",
        "146  6.3  2.5  5.0  1.9  3\n",
        "147  6.5  3.0  5.2  2.0  3\n",
        "148  6.2  3.4  5.4  2.3  3\n",
        "149  5.9  3.0  5.1  1.8  3\n",
        "* ... ...\n",
        "****************************************\n",
        "*** MIXMOD Strategy:\n",
        "* number of tries      = 1\n",
        "* algorithm            = EM\n",
        "* number of iterations = 200\n",
        "* epsilon              = 0.001\n",
        "*** Initialization strategy:\n",
        "* algorithm            = SMALL_EM\n",
        "* number of tries      = 10\n",
        "* number of iterations = 5\n",
        "* epsilon              = 0.001\n",
        "* seed                 = NULL\n",
        "****************************************\n",
        "\n",
        "\n",
        "****************************************\n",
        "*** BEST MODEL OUTPUT:\n",
        "*** According to the BIC criterion\n",
        "****************************************\n",
        "* nbCluster   = 3\n",
        "* model name  = Gaussian_pk_Lk_C\n",
        "* criterion   = BIC(590.9346)\n",
        "* likelihood  = -210.2865\n",
        "****************************************\n",
        "*** Cluster 1\n",
        "* proportion = 0.6733\n",
        "* means      = 6.2446 2.8663 4.8703 1.6624 2.4851\n",
        "* variances  = |0.4308 0.1381 0.3659 0.1410 0.1261|\n",
        "               |0.1381 0.1403 0.1220 0.0712 0.0397|\n",
        "               |0.3659 0.1220 0.5794 0.2327 0.2510|\n",
        "               |0.1410 0.0712 0.2327 0.1487 0.1303|\n",
        "               |0.1261 0.0397 0.2510 0.1303 0.1815|\n",
        "*** Cluster 2\n",
        "* proportion = 0.1252\n",
        "* means      = 5.2676 3.7926 1.4604 0.2555 1.0000\n",
        "* variances  = |0.1204 0.0386 0.1023 0.0394 0.0353|\n",
        "               |0.0386 0.0392 0.0341 0.0199 0.0111|\n",
        "               |0.1023 0.0341 0.1620 0.0651 0.0702|\n",
        "               |0.0394 0.0199 0.0651 0.0416 0.0364|\n",
        "               |0.0353 0.0111 0.0702 0.0364 0.0507|\n",
        "*** Cluster 3\n",
        "* proportion = 0.2015\n",
        "* means      = 4.8601 3.2387 1.4683 0.2383 1.0000\n",
        "* variances  = |0.0800 0.0256 0.0679 0.0262 0.0234|\n",
        "               |0.0256 0.0260 0.0226 0.0132 0.0074|\n",
        "               |0.0679 0.0226 0.1076 0.0432 0.0466|\n",
        "               |0.0262 0.0132 0.0432 0.0276 0.0242|\n",
        "               |0.0234 0.0074 0.0466 0.0242 0.0337|\n",
        "****************************************\n",
        "\n",
        "\n"
       ]
      }
     ],
     "prompt_number": 7
    },
    {
     "cell_type": "markdown",
     "metadata": {},
     "source": [
      "Utilisation basique de l'objet **cluster** :"
     ]
    },
    {
     "cell_type": "code",
     "collapsed": false,
     "input": [
      "cluster.best_result.model\n",
      "# type(cluster)\n",
      "# cluster.attr..."
     ],
     "language": "python",
     "metadata": {},
     "outputs": [
      {
       "metadata": {},
       "output_type": "pyout",
       "prompt_number": 8,
       "text": [
        "'Gaussian_pk_Lk_C'"
       ]
      }
     ],
     "prompt_number": 8
    },
    {
     "cell_type": "markdown",
     "metadata": {},
     "source": [
      "Exemple de traitement :"
     ]
    },
    {
     "cell_type": "code",
     "collapsed": false,
     "input": [
      "def dummy(cl, pr):\n",
      "    print(\"{:10d} {:10.2f}\".format(cl, pr))\n",
      "    \n",
      "for k, prop in enumerate(cluster.best_result.parameters.proportions):\n",
      "    dummy(k, prop)"
     ],
     "language": "python",
     "metadata": {},
     "outputs": [
      {
       "output_type": "stream",
       "stream": "stdout",
       "text": [
        "         0       0.67\n",
        "         1       0.13\n",
        "         2       0.20\n"
       ]
      }
     ],
     "prompt_number": 9
    },
    {
     "cell_type": "markdown",
     "metadata": {},
     "source": [
      "La m\u00e9thode **plot()**, bas\u00e9e sur le module **matplotlib**  avec affichage dans une fen\u00eatre \u00e0 part:"
     ]
    },
    {
     "cell_type": "code",
     "collapsed": false,
     "input": [
      "%matplotlib gtk\n",
      "fig = cluster.plot(y=[\"Sepal.Length\",\"Sepal.Width\",\"Petal.Length\",\"Petal.Width\"])"
     ],
     "language": "python",
     "metadata": {},
     "outputs": [],
     "prompt_number": 10
    },
    {
     "cell_type": "markdown",
     "metadata": {},
     "source": [
      "La m\u00e9thode **hist()** (bas\u00e9e sur matplotlib \u00e9galement), affichage **inline** :"
     ]
    },
    {
     "cell_type": "code",
     "collapsed": false,
     "input": [
      "%matplotlib inline\n",
      "fig = cluster.hist(variables=[\"Sepal.Length\",\"Sepal.Width\"])"
     ],
     "language": "python",
     "metadata": {},
     "outputs": [
      {
       "output_type": "stream",
       "stream": "stderr",
       "text": [
        "/usr/lib64/python2.7/site-packages/matplotlib/backends/backend_gtk.py:253: Warning: Source ID 2 was not found when attempting to remove it\n",
        "  gobject.source_remove(self._idle_event_id)\n"
       ]
      },
      {
       "metadata": {},
       "output_type": "display_data",
       "png": "[encoded data removed]",
       "text": [
        "<matplotlib.figure.Figure at 0x7fbef2e50890>"
       ]
      }
     ],
     "prompt_number": 11
    },
    {
     "cell_type": "markdown",
     "metadata": {},
     "source": [
      "Interaction avec **Plotly** (service de visualisation en ligne) :"
     ]
    },
    {
     "cell_type": "code",
     "collapsed": false,
     "input": [
      "import plotly.plotly as ply\n",
      "import plotly.tools as tls\n",
      "fig = cluster.hist(variables=[\n",
      "                        \"Sepal.Width\"], show=False)\n",
      "plotly_fig = tls.mpl_to_plotly(fig, resize=True, strip_style=True)\n",
      "plot_url = ply.plot(plotly_fig)"
     ],
     "language": "python",
     "metadata": {},
     "outputs": [
      {
       "output_type": "stream",
       "stream": "stdout",
       "text": [
        "The draw time for this plot will be slow for clients without much RAM.\n"
       ]
      },
      {
       "output_type": "stream",
       "stream": "stderr",
       "text": [
        "/usr/lib/python2.7/site-packages/plotly/plotly/plotly.py:1261: UserWarning:\n",
        "\n",
        "Estimated Draw Time Slow\n",
        "\n"
       ]
      }
     ],
     "prompt_number": 12
    },
    {
     "cell_type": "code",
     "collapsed": false,
     "input": [],
     "language": "python",
     "metadata": {},
     "outputs": []
    }
   ],
   "metadata": {}
  }
 ]
}