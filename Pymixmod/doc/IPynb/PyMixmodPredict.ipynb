{
 "metadata": {
  "name": "",
  "signature": "sha256:6d380fd86b8d721bc8e4606bc64d6f48bfeeef52a54d1cbb60138498c4553356"
 },
 "nbformat": 3,
 "nbformat_minor": 0,
 "worksheets": [
  {
   "cells": [
    {
     "cell_type": "heading",
     "level": 1,
     "metadata": {},
     "source": [
      "Pr\u00e9diction"
     ]
    },
    {
     "cell_type": "markdown",
     "metadata": {},
     "source": [
      "Importations :"
     ]
    },
    {
     "cell_type": "code",
     "collapsed": false,
     "input": [
      "from __future__ import (absolute_import, division,\n",
      "                        print_function, unicode_literals) # compatibilit\u00e9 Python 2.7.x / 3.4.x\n",
      "import pandas as pnd\n",
      "\n",
      "import mixmod\n",
      "from mixmod import gm"
     ],
     "language": "python",
     "metadata": {},
     "outputs": [],
     "prompt_number": 1
    },
    {
     "cell_type": "markdown",
     "metadata": {},
     "source": [
      "Chargement des donn\u00e9es :"
     ]
    },
    {
     "cell_type": "code",
     "collapsed": false,
     "input": [
      "data = pnd.read_csv(filepath_or_buffer='data/iris.csv', sep=',', header=False)"
     ],
     "language": "python",
     "metadata": {},
     "outputs": [],
     "prompt_number": 2
    },
    {
     "cell_type": "markdown",
     "metadata": {},
     "source": [
      "Liste d'observations qu'on va retirer \u00e0 l'apprentissage, et ensuite utiliser pour la pr\u00e9diction :"
     ]
    },
    {
     "cell_type": "code",
     "collapsed": false,
     "input": [
      "remaining_obs = [17, 101, 149,  33, 120,  73,  58,  25, 147, 148]"
     ],
     "language": "python",
     "metadata": {},
     "outputs": [],
     "prompt_number": 3
    },
    {
     "cell_type": "markdown",
     "metadata": {},
     "source": [
      "Apprentissage sur data - remaining_obs en retirant \"species\", comme pr\u00e9c\u00e9demment :"
     ]
    },
    {
     "cell_type": "code",
     "collapsed": false,
     "input": [
      "iris_learn = mixmod.learn(data.drop(remaining_obs).ix[:,0:4], data.drop(remaining_obs).ix[:,4])"
     ],
     "language": "python",
     "metadata": {},
     "outputs": [
      {
       "output_type": "stream",
       "stream": "stdout",
       "text": [
        "CALL LEARN DEALLOC\n"
       ]
      }
     ],
     "prompt_number": 4
    },
    {
     "cell_type": "markdown",
     "metadata": {},
     "source": [
      "Pr\u00e9diction :"
     ]
    },
    {
     "cell_type": "code",
     "collapsed": false,
     "input": [
      "prediction = mixmod.predict(data.ix[remaining_obs,:].ix[:,0:4], iris_learn.best_result)"
     ],
     "language": "python",
     "metadata": {},
     "outputs": [],
     "prompt_number": 5
    },
    {
     "cell_type": "markdown",
     "metadata": {},
     "source": [
      "R\u00e9sultats :"
     ]
    },
    {
     "cell_type": "code",
     "collapsed": false,
     "input": [
      "print(prediction)"
     ],
     "language": "python",
     "metadata": {},
     "outputs": [
      {
       "output_type": "stream",
       "stream": "stdout",
       "text": [
        "****************************************\n",
        "*** INPUT:\n",
        "****************************************\n",
        "* nbCluster   = 3\n",
        "* model name  = Gaussian_pk_Lk_C\n",
        "* criterion   = CV(0.9714)\n",
        "* likelihood  = -230.3448\n",
        "****************************************\n",
        "*** Cluster 1\n",
        "* proportion = 0.3357\n",
        "* means      = 4.9936 3.4191 1.4617 0.2468\n",
        "* variances  = |0.1507 0.0634 0.0846 0.0228|\n",
        "               |0.0634 0.0804 0.0332 0.0187|\n",
        "               |0.0846 0.0332 0.0987 0.0256|\n",
        "               |0.0228 0.0187 0.0256 0.0222|\n",
        "*** Cluster 2\n",
        "* proportion = 0.3429\n",
        "* means      = 5.9187 2.7667 4.2437 1.3292\n",
        "* variances  = |0.2237 0.0941 0.1256 0.0339|\n",
        "               |0.0941 0.1193 0.0492 0.0278|\n",
        "               |0.1256 0.0492 0.1465 0.0380|\n",
        "               |0.0339 0.0278 0.0380 0.0329|\n",
        "*** Cluster 3\n",
        "* proportion = 0.3214\n",
        "* means      = 6.6244 2.9644 5.5800 2.0222\n",
        "* variances  = |0.4079 0.1716 0.2290 0.0618|\n",
        "               |0.1716 0.2176 0.0898 0.0506|\n",
        "               |0.2290 0.0898 0.2671 0.0693|\n",
        "               |0.0618 0.0506 0.0693 0.0600|\n",
        "****************************************\n",
        "\n",
        "* Classification with CV:\n",
        "           | Cluster 1 | Cluster 2 | Cluster 3 |\n",
        "----------- ----------- ----------- -----------\n",
        " Cluster 1 |        47 |         0 |         0 |\n",
        " Cluster 2 |         0 |        45 |         1 |\n",
        " Cluster 3 |         0 |         3 |        44 |\n",
        "----------- ----------- ----------- -----------\n",
        "* Error rate with CV = 2.86\n",
        "* Classification with MAP:\n",
        "           | Cluster 1 | Cluster 2 | Cluster 3 |\n",
        " Cluster 1 |        47 |         0 |         0 |\n",
        " Cluster 2 |         0 |        48 |         0 |\n",
        " Cluster 3 |         0 |         0 |        45 |\n",
        "----------- ----------- ----------- -----------\n",
        "* Error rate with MAP = 0.00\n",
        "* data (limited to a 10x10 matrix) =\n",
        "17   5.1  3.5  1.4  0.3\n",
        "101  5.8  2.7  5.1  1.9\n",
        "149  5.9  3.0  5.1  1.8\n",
        "33   5.5  4.2  1.4  0.2\n",
        "120  6.9  3.2  5.7  2.3\n",
        "73   6.1  2.8  4.7  1.2\n",
        "58   6.6  2.9  4.6  1.3\n",
        "25   5.0  3.0  1.6  0.2\n",
        "147  6.5  3.0  5.2  2.0\n",
        "148  6.2  3.4  5.4  2.3\n",
        "* ... ...\n",
        "\n",
        "\n",
        "****************************************\n",
        "*** PREDICTION:\n",
        "* partition = 1 3 3 1 3 2 2 1 3 3\n",
        "* probabilities = |1.0000 0.0000 0.0000|\n",
        "                  |0.0000 0.0014 0.9986|\n",
        "                  |0.0000 0.0210 0.9790|\n",
        "                  |1.0000 0.0000 0.0000|\n",
        "                  |0.0000 0.0000 1.0000|\n",
        "                  |0.0000 0.9954 0.0046|\n",
        "                  |0.0000 0.9977 0.0023|\n",
        "                  |1.0000 0.0000 0.0000|\n",
        "                  |0.0000 0.0024 0.9976|\n",
        "                  |0.0000 0.0000 1.0000|\n",
        "\n"
       ]
      }
     ],
     "prompt_number": 6
    },
    {
     "cell_type": "code",
     "collapsed": false,
     "input": [
      "def hello():\n",
      "    print(\"hello\")\n",
      "    \n",
      "import dis\n",
      "\n",
      "dis.dis(hello)"
     ],
     "language": "python",
     "metadata": {},
     "outputs": [
      {
       "output_type": "stream",
       "stream": "stdout",
       "text": [
        "  2           0 LOAD_GLOBAL              0 (print)\n",
        "              3 LOAD_CONST               1 (u'hello')\n",
        "              6 CALL_FUNCTION            1\n",
        "              9 POP_TOP             \n",
        "             10 LOAD_CONST               0 (None)\n",
        "             13 RETURN_VALUE        \n"
       ]
      }
     ],
     "prompt_number": 8
    },
    {
     "cell_type": "code",
     "collapsed": false,
     "input": [
      "\"a\"+1"
     ],
     "language": "python",
     "metadata": {},
     "outputs": [
      {
       "ename": "TypeError",
       "evalue": "coercing to Unicode: need string or buffer, int found",
       "output_type": "pyerr",
       "traceback": [
        "\u001b[1;31m---------------------------------------------------------------------------\u001b[0m\n\u001b[1;31mTypeError\u001b[0m                                 Traceback (most recent call last)",
        "\u001b[1;32m<ipython-input-9-0a514c1a851b>\u001b[0m in \u001b[0;36m<module>\u001b[1;34m()\u001b[0m\n\u001b[1;32m----> 1\u001b[1;33m \u001b[1;34m\"a\"\u001b[0m\u001b[1;33m+\u001b[0m\u001b[1;36m1\u001b[0m\u001b[1;33m\u001b[0m\u001b[0m\n\u001b[0m",
        "\u001b[1;31mTypeError\u001b[0m: coercing to Unicode: need string or buffer, int found"
       ]
      }
     ],
     "prompt_number": 9
    },
    {
     "cell_type": "code",
     "collapsed": false,
     "input": [
      "import copy\n",
      "L = [1,2]\n",
      "G = copy.copy(L)\n",
      "G.append(5)\n",
      "print(L)\n",
      "print(G)"
     ],
     "language": "python",
     "metadata": {},
     "outputs": [
      {
       "output_type": "stream",
       "stream": "stdout",
       "text": [
        "[1, 2]\n",
        "[1, 2, 5]\n"
       ]
      }
     ],
     "prompt_number": 18
    },
    {
     "cell_type": "code",
     "collapsed": false,
     "input": [],
     "language": "python",
     "metadata": {},
     "outputs": []
    }
   ],
   "metadata": {}
  }
 ]
}